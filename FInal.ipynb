{
  "cells": [
    {
      "cell_type": "code",
      "execution_count": null,
      "metadata": {
        "colab": {
          "base_uri": "https://localhost:8080/"
        },
        "id": "0bqHz4jtPlLK",
        "outputId": "2ba87a1a-1130-431f-a9ee-04f11dcdf6f9"
      },
      "outputs": [
        {
          "output_type": "stream",
          "name": "stdout",
          "text": [
            "Mounted at /content/drive\n",
            "Collecting shap\n",
            "  Downloading shap-0.46.0-cp310-cp310-manylinux_2_12_x86_64.manylinux2010_x86_64.manylinux_2_17_x86_64.manylinux2014_x86_64.whl.metadata (24 kB)\n",
            "Requirement already satisfied: numpy in /usr/local/lib/python3.10/dist-packages (from shap) (1.26.4)\n",
            "Requirement already satisfied: scipy in /usr/local/lib/python3.10/dist-packages (from shap) (1.13.1)\n",
            "Requirement already satisfied: scikit-learn in /usr/local/lib/python3.10/dist-packages (from shap) (1.3.2)\n",
            "Requirement already satisfied: pandas in /usr/local/lib/python3.10/dist-packages (from shap) (2.1.4)\n",
            "Requirement already satisfied: tqdm>=4.27.0 in /usr/local/lib/python3.10/dist-packages (from shap) (4.66.5)\n",
            "Requirement already satisfied: packaging>20.9 in /usr/local/lib/python3.10/dist-packages (from shap) (24.1)\n",
            "Collecting slicer==0.0.8 (from shap)\n",
            "  Downloading slicer-0.0.8-py3-none-any.whl.metadata (4.0 kB)\n",
            "Requirement already satisfied: numba in /usr/local/lib/python3.10/dist-packages (from shap) (0.60.0)\n",
            "Requirement already satisfied: cloudpickle in /usr/local/lib/python3.10/dist-packages (from shap) (2.2.1)\n",
            "Requirement already satisfied: llvmlite<0.44,>=0.43.0dev0 in /usr/local/lib/python3.10/dist-packages (from numba->shap) (0.43.0)\n",
            "Requirement already satisfied: python-dateutil>=2.8.2 in /usr/local/lib/python3.10/dist-packages (from pandas->shap) (2.8.2)\n",
            "Requirement already satisfied: pytz>=2020.1 in /usr/local/lib/python3.10/dist-packages (from pandas->shap) (2024.1)\n",
            "Requirement already satisfied: tzdata>=2022.1 in /usr/local/lib/python3.10/dist-packages (from pandas->shap) (2024.1)\n",
            "Requirement already satisfied: joblib>=1.1.1 in /usr/local/lib/python3.10/dist-packages (from scikit-learn->shap) (1.4.2)\n",
            "Requirement already satisfied: threadpoolctl>=2.0.0 in /usr/local/lib/python3.10/dist-packages (from scikit-learn->shap) (3.5.0)\n",
            "Requirement already satisfied: six>=1.5 in /usr/local/lib/python3.10/dist-packages (from python-dateutil>=2.8.2->pandas->shap) (1.16.0)\n",
            "Downloading shap-0.46.0-cp310-cp310-manylinux_2_12_x86_64.manylinux2010_x86_64.manylinux_2_17_x86_64.manylinux2014_x86_64.whl (540 kB)\n",
            "\u001b[2K   \u001b[90m━━━━━━━━━━━━━━━━━━━━━━━━━━━━━━━━━━━━━━━━\u001b[0m \u001b[32m540.1/540.1 kB\u001b[0m \u001b[31m10.0 MB/s\u001b[0m eta \u001b[36m0:00:00\u001b[0m\n",
            "\u001b[?25hDownloading slicer-0.0.8-py3-none-any.whl (15 kB)\n",
            "Installing collected packages: slicer, shap\n",
            "Successfully installed shap-0.46.0 slicer-0.0.8\n",
            "Collecting catboost\n",
            "  Downloading catboost-1.2.5-cp310-cp310-manylinux2014_x86_64.whl.metadata (1.2 kB)\n",
            "Requirement already satisfied: graphviz in /usr/local/lib/python3.10/dist-packages (from catboost) (0.20.3)\n",
            "Requirement already satisfied: matplotlib in /usr/local/lib/python3.10/dist-packages (from catboost) (3.7.1)\n",
            "Requirement already satisfied: numpy>=1.16.0 in /usr/local/lib/python3.10/dist-packages (from catboost) (1.26.4)\n",
            "Requirement already satisfied: pandas>=0.24 in /usr/local/lib/python3.10/dist-packages (from catboost) (2.1.4)\n",
            "Requirement already satisfied: scipy in /usr/local/lib/python3.10/dist-packages (from catboost) (1.13.1)\n",
            "Requirement already satisfied: plotly in /usr/local/lib/python3.10/dist-packages (from catboost) (5.15.0)\n",
            "Requirement already satisfied: six in /usr/local/lib/python3.10/dist-packages (from catboost) (1.16.0)\n",
            "Requirement already satisfied: python-dateutil>=2.8.2 in /usr/local/lib/python3.10/dist-packages (from pandas>=0.24->catboost) (2.8.2)\n",
            "Requirement already satisfied: pytz>=2020.1 in /usr/local/lib/python3.10/dist-packages (from pandas>=0.24->catboost) (2024.1)\n",
            "Requirement already satisfied: tzdata>=2022.1 in /usr/local/lib/python3.10/dist-packages (from pandas>=0.24->catboost) (2024.1)\n",
            "Requirement already satisfied: contourpy>=1.0.1 in /usr/local/lib/python3.10/dist-packages (from matplotlib->catboost) (1.2.1)\n",
            "Requirement already satisfied: cycler>=0.10 in /usr/local/lib/python3.10/dist-packages (from matplotlib->catboost) (0.12.1)\n",
            "Requirement already satisfied: fonttools>=4.22.0 in /usr/local/lib/python3.10/dist-packages (from matplotlib->catboost) (4.53.1)\n",
            "Requirement already satisfied: kiwisolver>=1.0.1 in /usr/local/lib/python3.10/dist-packages (from matplotlib->catboost) (1.4.5)\n",
            "Requirement already satisfied: packaging>=20.0 in /usr/local/lib/python3.10/dist-packages (from matplotlib->catboost) (24.1)\n",
            "Requirement already satisfied: pillow>=6.2.0 in /usr/local/lib/python3.10/dist-packages (from matplotlib->catboost) (9.4.0)\n",
            "Requirement already satisfied: pyparsing>=2.3.1 in /usr/local/lib/python3.10/dist-packages (from matplotlib->catboost) (3.1.2)\n",
            "Requirement already satisfied: tenacity>=6.2.0 in /usr/local/lib/python3.10/dist-packages (from plotly->catboost) (9.0.0)\n",
            "Downloading catboost-1.2.5-cp310-cp310-manylinux2014_x86_64.whl (98.2 MB)\n",
            "\u001b[2K   \u001b[90m━━━━━━━━━━━━━━━━━━━━━━━━━━━━━━━━━━━━━━━━\u001b[0m \u001b[32m98.2/98.2 MB\u001b[0m \u001b[31m7.4 MB/s\u001b[0m eta \u001b[36m0:00:00\u001b[0m\n",
            "\u001b[?25hInstalling collected packages: catboost\n",
            "Successfully installed catboost-1.2.5\n"
          ]
        }
      ],
      "source": [
        "from google.colab import drive\n",
        "drive.mount('/content/drive')\n",
        "!pip install shap\n",
        "!pip install catboost\n",
        "import os\n",
        "import numpy as np\n",
        "import pandas as pd\n",
        "import matplotlib.pyplot as plt\n",
        "import plotly\n",
        "from sklearn.model_selection import train_test_split\n",
        "from sklearn.preprocessing import LabelEncoder\n",
        "from catboost import CatBoostRegressor, Pool, CatBoostClassifier, cv\n",
        "os.chdir('/content/drive/My Drive/ML')"
      ]
    },
    {
      "cell_type": "code",
      "execution_count": null,
      "metadata": {
        "colab": {
          "base_uri": "https://localhost:8080/",
          "height": 112
        },
        "id": "BLgO7wa9ksVI",
        "outputId": "bd09badb-ec08-4d30-8b0d-9209e280ad37"
      },
      "outputs": [
        {
          "output_type": "execute_result",
          "data": {
            "text/plain": [
              "                vin  engine_displacement  horsepower make_name  mileage  \\\n",
              "0  3C4NJBB0LT255912               2400.0       180.0      Jeep      9.0   \n",
              "1  1GTV2EC5GZ384010               6200.0       420.0       GMC  73112.0   \n",
              "\n",
              "     price transmission_display  trimId  year  \n",
              "0  28620.0    9-Speed Automatic  t87047  2020  \n",
              "1  31690.0            Automatic  t60025  2016  "
            ],
            "text/html": [
              "\n",
              "\n",
              "  <div id=\"df-a6502792-ecaa-46a8-b14a-7d720de8d1a9\">\n",
              "    <div class=\"colab-df-container\">\n",
              "      <div>\n",
              "<style scoped>\n",
              "    .dataframe tbody tr th:only-of-type {\n",
              "        vertical-align: middle;\n",
              "    }\n",
              "\n",
              "    .dataframe tbody tr th {\n",
              "        vertical-align: top;\n",
              "    }\n",
              "\n",
              "    .dataframe thead th {\n",
              "        text-align: right;\n",
              "    }\n",
              "</style>\n",
              "<table border=\"1\" class=\"dataframe\">\n",
              "  <thead>\n",
              "    <tr style=\"text-align: right;\">\n",
              "      <th></th>\n",
              "      <th>vin</th>\n",
              "      <th>engine_displacement</th>\n",
              "      <th>horsepower</th>\n",
              "      <th>make_name</th>\n",
              "      <th>mileage</th>\n",
              "      <th>price</th>\n",
              "      <th>transmission_display</th>\n",
              "      <th>trimId</th>\n",
              "      <th>year</th>\n",
              "    </tr>\n",
              "  </thead>\n",
              "  <tbody>\n",
              "    <tr>\n",
              "      <th>0</th>\n",
              "      <td>3C4NJBB0LT255912</td>\n",
              "      <td>2400.0</td>\n",
              "      <td>180.0</td>\n",
              "      <td>Jeep</td>\n",
              "      <td>9.0</td>\n",
              "      <td>28620.0</td>\n",
              "      <td>9-Speed Automatic</td>\n",
              "      <td>t87047</td>\n",
              "      <td>2020</td>\n",
              "    </tr>\n",
              "    <tr>\n",
              "      <th>1</th>\n",
              "      <td>1GTV2EC5GZ384010</td>\n",
              "      <td>6200.0</td>\n",
              "      <td>420.0</td>\n",
              "      <td>GMC</td>\n",
              "      <td>73112.0</td>\n",
              "      <td>31690.0</td>\n",
              "      <td>Automatic</td>\n",
              "      <td>t60025</td>\n",
              "      <td>2016</td>\n",
              "    </tr>\n",
              "  </tbody>\n",
              "</table>\n",
              "</div>\n",
              "      <button class=\"colab-df-convert\" onclick=\"convertToInteractive('df-a6502792-ecaa-46a8-b14a-7d720de8d1a9')\"\n",
              "              title=\"Convert this dataframe to an interactive table.\"\n",
              "              style=\"display:none;\">\n",
              "\n",
              "  <svg xmlns=\"http://www.w3.org/2000/svg\" height=\"24px\"viewBox=\"0 0 24 24\"\n",
              "       width=\"24px\">\n",
              "    <path d=\"M0 0h24v24H0V0z\" fill=\"none\"/>\n",
              "    <path d=\"M18.56 5.44l.94 2.06.94-2.06 2.06-.94-2.06-.94-.94-2.06-.94 2.06-2.06.94zm-11 1L8.5 8.5l.94-2.06 2.06-.94-2.06-.94L8.5 2.5l-.94 2.06-2.06.94zm10 10l.94 2.06.94-2.06 2.06-.94-2.06-.94-.94-2.06-.94 2.06-2.06.94z\"/><path d=\"M17.41 7.96l-1.37-1.37c-.4-.4-.92-.59-1.43-.59-.52 0-1.04.2-1.43.59L10.3 9.45l-7.72 7.72c-.78.78-.78 2.05 0 2.83L4 21.41c.39.39.9.59 1.41.59.51 0 1.02-.2 1.41-.59l7.78-7.78 2.81-2.81c.8-.78.8-2.07 0-2.86zM5.41 20L4 18.59l7.72-7.72 1.47 1.35L5.41 20z\"/>\n",
              "  </svg>\n",
              "      </button>\n",
              "\n",
              "\n",
              "\n",
              "    <div id=\"df-fa6c0e74-4db0-441d-a52f-0759660ad297\">\n",
              "      <button class=\"colab-df-quickchart\" onclick=\"quickchart('df-fa6c0e74-4db0-441d-a52f-0759660ad297')\"\n",
              "              title=\"Suggest charts.\"\n",
              "              style=\"display:none;\">\n",
              "\n",
              "<svg xmlns=\"http://www.w3.org/2000/svg\" height=\"24px\"viewBox=\"0 0 24 24\"\n",
              "     width=\"24px\">\n",
              "    <g>\n",
              "        <path d=\"M19 3H5c-1.1 0-2 .9-2 2v14c0 1.1.9 2 2 2h14c1.1 0 2-.9 2-2V5c0-1.1-.9-2-2-2zM9 17H7v-7h2v7zm4 0h-2V7h2v10zm4 0h-2v-4h2v4z\"/>\n",
              "    </g>\n",
              "</svg>\n",
              "      </button>\n",
              "    </div>\n",
              "\n",
              "<style>\n",
              "  .colab-df-quickchart {\n",
              "    background-color: #E8F0FE;\n",
              "    border: none;\n",
              "    border-radius: 50%;\n",
              "    cursor: pointer;\n",
              "    display: none;\n",
              "    fill: #1967D2;\n",
              "    height: 32px;\n",
              "    padding: 0 0 0 0;\n",
              "    width: 32px;\n",
              "  }\n",
              "\n",
              "  .colab-df-quickchart:hover {\n",
              "    background-color: #E2EBFA;\n",
              "    box-shadow: 0px 1px 2px rgba(60, 64, 67, 0.3), 0px 1px 3px 1px rgba(60, 64, 67, 0.15);\n",
              "    fill: #174EA6;\n",
              "  }\n",
              "\n",
              "  [theme=dark] .colab-df-quickchart {\n",
              "    background-color: #3B4455;\n",
              "    fill: #D2E3FC;\n",
              "  }\n",
              "\n",
              "  [theme=dark] .colab-df-quickchart:hover {\n",
              "    background-color: #434B5C;\n",
              "    box-shadow: 0px 1px 3px 1px rgba(0, 0, 0, 0.15);\n",
              "    filter: drop-shadow(0px 1px 2px rgba(0, 0, 0, 0.3));\n",
              "    fill: #FFFFFF;\n",
              "  }\n",
              "</style>\n",
              "\n",
              "    <script>\n",
              "      async function quickchart(key) {\n",
              "        const containerElement = document.querySelector('#' + key);\n",
              "        const charts = await google.colab.kernel.invokeFunction(\n",
              "            'suggestCharts', [key], {});\n",
              "      }\n",
              "    </script>\n",
              "\n",
              "      <script>\n",
              "\n",
              "function displayQuickchartButton(domScope) {\n",
              "  let quickchartButtonEl =\n",
              "    domScope.querySelector('#df-fa6c0e74-4db0-441d-a52f-0759660ad297 button.colab-df-quickchart');\n",
              "  quickchartButtonEl.style.display =\n",
              "    google.colab.kernel.accessAllowed ? 'block' : 'none';\n",
              "}\n",
              "\n",
              "        displayQuickchartButton(document);\n",
              "      </script>\n",
              "      <style>\n",
              "    .colab-df-container {\n",
              "      display:flex;\n",
              "      flex-wrap:wrap;\n",
              "      gap: 12px;\n",
              "    }\n",
              "\n",
              "    .colab-df-convert {\n",
              "      background-color: #E8F0FE;\n",
              "      border: none;\n",
              "      border-radius: 50%;\n",
              "      cursor: pointer;\n",
              "      display: none;\n",
              "      fill: #1967D2;\n",
              "      height: 32px;\n",
              "      padding: 0 0 0 0;\n",
              "      width: 32px;\n",
              "    }\n",
              "\n",
              "    .colab-df-convert:hover {\n",
              "      background-color: #E2EBFA;\n",
              "      box-shadow: 0px 1px 2px rgba(60, 64, 67, 0.3), 0px 1px 3px 1px rgba(60, 64, 67, 0.15);\n",
              "      fill: #174EA6;\n",
              "    }\n",
              "\n",
              "    [theme=dark] .colab-df-convert {\n",
              "      background-color: #3B4455;\n",
              "      fill: #D2E3FC;\n",
              "    }\n",
              "\n",
              "    [theme=dark] .colab-df-convert:hover {\n",
              "      background-color: #434B5C;\n",
              "      box-shadow: 0px 1px 3px 1px rgba(0, 0, 0, 0.15);\n",
              "      filter: drop-shadow(0px 1px 2px rgba(0, 0, 0, 0.3));\n",
              "      fill: #FFFFFF;\n",
              "    }\n",
              "  </style>\n",
              "\n",
              "      <script>\n",
              "        const buttonEl =\n",
              "          document.querySelector('#df-a6502792-ecaa-46a8-b14a-7d720de8d1a9 button.colab-df-convert');\n",
              "        buttonEl.style.display =\n",
              "          google.colab.kernel.accessAllowed ? 'block' : 'none';\n",
              "\n",
              "        async function convertToInteractive(key) {\n",
              "          const element = document.querySelector('#df-a6502792-ecaa-46a8-b14a-7d720de8d1a9');\n",
              "          const dataTable =\n",
              "            await google.colab.kernel.invokeFunction('convertToInteractive',\n",
              "                                                     [key], {});\n",
              "          if (!dataTable) return;\n",
              "\n",
              "          const docLinkHtml = 'Like what you see? Visit the ' +\n",
              "            '<a target=\"_blank\" href=https://colab.research.google.com/notebooks/data_table.ipynb>data table notebook</a>'\n",
              "            + ' to learn more about interactive tables.';\n",
              "          element.innerHTML = '';\n",
              "          dataTable['output_type'] = 'display_data';\n",
              "          await google.colab.output.renderOutput(dataTable, element);\n",
              "          const docLink = document.createElement('div');\n",
              "          docLink.innerHTML = docLinkHtml;\n",
              "          element.appendChild(docLink);\n",
              "        }\n",
              "      </script>\n",
              "    </div>\n",
              "  </div>\n"
            ]
          },
          "metadata": {},
          "execution_count": 2
        }
      ],
      "source": [
        "df = pd.read_csv('features.csv')\n",
        "df.drop(['interior_color', 'legroom', 'combined_fuel_economy', 'body_type', 'size_of_vehicle'], axis = 1, inplace = True)\n",
        "df.head(2)"
      ]
    },
    {
      "cell_type": "code",
      "source": [
        "features = list(df)\n",
        "features.remove('price')\n",
        "features"
      ],
      "metadata": {
        "colab": {
          "base_uri": "https://localhost:8080/"
        },
        "id": "OdbZx4h95bD0",
        "outputId": "4fb3983b-857e-40aa-c74e-b8c9cbc2a5bb"
      },
      "execution_count": null,
      "outputs": [
        {
          "output_type": "execute_result",
          "data": {
            "text/plain": [
              "['vin',\n",
              " 'engine_displacement',\n",
              " 'horsepower',\n",
              " 'make_name',\n",
              " 'mileage',\n",
              " 'transmission_display',\n",
              " 'trimId',\n",
              " 'year']"
            ]
          },
          "metadata": {},
          "execution_count": 3
        }
      ]
    },
    {
      "cell_type": "code",
      "execution_count": null,
      "metadata": {
        "id": "rWSABd7VTevn"
      },
      "outputs": [],
      "source": [
        "df_notna = df[[*features, 'price']].dropna()\n",
        "SEED = 42\n",
        "X = df_notna[features]\n",
        "y = df_notna.price\n",
        "X_train, X_test, y_train, y_test = train_test_split(X, y, train_size=0.66, random_state=SEED)"
      ]
    },
    {
      "cell_type": "code",
      "execution_count": null,
      "metadata": {
        "id": "M6A7K83eqN11"
      },
      "outputs": [],
      "source": [
        "categorical_features_indices = np.where(X.dtypes != float)[0]\n",
        "train_pool = Pool(X_train, y_train, cat_features=categorical_features_indices)\n",
        "test_pool = Pool(X_test, y_test, cat_features=categorical_features_indices)"
      ]
    },
    {
      "cell_type": "code",
      "source": [
        "cat = CatBoostRegressor(iterations = 100).fit(train_pool, eval_set = test_pool)"
      ],
      "metadata": {
        "colab": {
          "base_uri": "https://localhost:8080/"
        },
        "id": "oX0Lsh4XUduk",
        "outputId": "c5eae20f-087b-49c4-8668-344449745958"
      },
      "execution_count": null,
      "outputs": [
        {
          "output_type": "stream",
          "name": "stdout",
          "text": [
            "Learning rate set to 0.5\n",
            "0:\tlearn: 9961.3259575\ttest: 9758.2017164\tbest: 9758.2017164 (0)\ttotal: 503ms\tremaining: 49.8s\n",
            "1:\tlearn: 7505.6862867\ttest: 7238.2697395\tbest: 7238.2697395 (1)\ttotal: 946ms\tremaining: 46.4s\n",
            "2:\tlearn: 6395.9380506\ttest: 6072.4936451\tbest: 6072.4936451 (2)\ttotal: 1.38s\tremaining: 44.6s\n",
            "3:\tlearn: 5881.2522584\ttest: 5538.1151112\tbest: 5538.1151112 (3)\ttotal: 1.71s\tremaining: 41s\n",
            "4:\tlearn: 5664.5415304\ttest: 5317.5545214\tbest: 5317.5545214 (4)\ttotal: 2.02s\tremaining: 38.4s\n",
            "5:\tlearn: 5504.8692683\ttest: 5149.6152821\tbest: 5149.6152821 (5)\ttotal: 2.33s\tremaining: 36.5s\n",
            "6:\tlearn: 5412.1143451\ttest: 5057.7653444\tbest: 5057.7653444 (6)\ttotal: 2.65s\tremaining: 35.2s\n",
            "7:\tlearn: 5329.8007942\ttest: 4981.0386682\tbest: 4981.0386682 (7)\ttotal: 2.95s\tremaining: 34s\n",
            "8:\tlearn: 5256.8887697\ttest: 4902.2970832\tbest: 4902.2970832 (8)\ttotal: 3.29s\tremaining: 33.3s\n",
            "9:\tlearn: 5208.7420565\ttest: 4859.8672619\tbest: 4859.8672619 (9)\ttotal: 3.62s\tremaining: 32.6s\n",
            "10:\tlearn: 5164.1528568\ttest: 4811.7318440\tbest: 4811.7318440 (10)\ttotal: 3.94s\tremaining: 31.9s\n",
            "11:\tlearn: 5091.0556802\ttest: 4731.0857137\tbest: 4731.0857137 (11)\ttotal: 4.27s\tremaining: 31.3s\n",
            "12:\tlearn: 5053.0134310\ttest: 4695.0479604\tbest: 4695.0479604 (12)\ttotal: 4.59s\tremaining: 30.8s\n",
            "13:\tlearn: 5017.8431629\ttest: 4667.9197534\tbest: 4667.9197534 (13)\ttotal: 4.9s\tremaining: 30.1s\n",
            "14:\tlearn: 4995.2948494\ttest: 4644.2421253\tbest: 4644.2421253 (14)\ttotal: 5.19s\tremaining: 29.4s\n",
            "15:\tlearn: 4961.6858185\ttest: 4608.8311526\tbest: 4608.8311526 (15)\ttotal: 5.48s\tremaining: 28.8s\n",
            "16:\tlearn: 4934.8898741\ttest: 4577.4773818\tbest: 4577.4773818 (16)\ttotal: 5.83s\tremaining: 28.4s\n",
            "17:\tlearn: 4911.6150812\ttest: 4558.3879476\tbest: 4558.3879476 (17)\ttotal: 6.15s\tremaining: 28s\n",
            "18:\tlearn: 4884.9875752\ttest: 4527.7984665\tbest: 4527.7984665 (18)\ttotal: 6.47s\tremaining: 27.6s\n",
            "19:\tlearn: 4859.1519131\ttest: 4500.2904417\tbest: 4500.2904417 (19)\ttotal: 6.81s\tremaining: 27.2s\n",
            "20:\tlearn: 4835.9995916\ttest: 4479.3529664\tbest: 4479.3529664 (20)\ttotal: 7.14s\tremaining: 26.9s\n",
            "21:\tlearn: 4814.3749175\ttest: 4457.5018787\tbest: 4457.5018787 (21)\ttotal: 7.46s\tremaining: 26.4s\n",
            "22:\tlearn: 4799.4216563\ttest: 4448.2691580\tbest: 4448.2691580 (22)\ttotal: 7.8s\tremaining: 26.1s\n",
            "23:\tlearn: 4782.9422018\ttest: 4429.7887463\tbest: 4429.7887463 (23)\ttotal: 8.36s\tremaining: 26.5s\n",
            "24:\tlearn: 4760.4718266\ttest: 4413.1018164\tbest: 4413.1018164 (24)\ttotal: 9.03s\tremaining: 27.1s\n",
            "25:\tlearn: 4743.6457501\ttest: 4394.9638177\tbest: 4394.9638177 (25)\ttotal: 9.53s\tremaining: 27.1s\n",
            "26:\tlearn: 4721.0792181\ttest: 4375.2518966\tbest: 4375.2518966 (26)\ttotal: 10.1s\tremaining: 27.2s\n",
            "27:\tlearn: 4706.4545519\ttest: 4363.7412324\tbest: 4363.7412324 (27)\ttotal: 10.6s\tremaining: 27.2s\n",
            "28:\tlearn: 4689.1911079\ttest: 4346.1699407\tbest: 4346.1699407 (28)\ttotal: 11.1s\tremaining: 27.2s\n",
            "29:\tlearn: 4676.3344887\ttest: 4331.8371055\tbest: 4331.8371055 (29)\ttotal: 11.6s\tremaining: 27.1s\n",
            "30:\tlearn: 4666.6532502\ttest: 4323.9140536\tbest: 4323.9140536 (30)\ttotal: 12.2s\tremaining: 27.1s\n",
            "31:\tlearn: 4640.9069794\ttest: 4297.2529894\tbest: 4297.2529894 (31)\ttotal: 12.7s\tremaining: 26.9s\n",
            "32:\tlearn: 4625.8295212\ttest: 4280.6256453\tbest: 4280.6256453 (32)\ttotal: 13.3s\tremaining: 26.9s\n",
            "33:\tlearn: 4616.3466237\ttest: 4272.5175390\tbest: 4272.5175390 (33)\ttotal: 13.8s\tremaining: 26.8s\n",
            "34:\tlearn: 4607.3637958\ttest: 4267.3889472\tbest: 4267.3889472 (34)\ttotal: 14.3s\tremaining: 26.5s\n",
            "35:\tlearn: 4592.1376775\ttest: 4251.9969074\tbest: 4251.9969074 (35)\ttotal: 14.8s\tremaining: 26.4s\n",
            "36:\tlearn: 4573.5050400\ttest: 4238.3398502\tbest: 4238.3398502 (36)\ttotal: 15.4s\tremaining: 26.2s\n",
            "37:\tlearn: 4550.5243495\ttest: 4232.1164800\tbest: 4232.1164800 (37)\ttotal: 15.9s\tremaining: 26s\n",
            "38:\tlearn: 4540.9951374\ttest: 4224.5641761\tbest: 4224.5641761 (38)\ttotal: 16.5s\tremaining: 25.8s\n",
            "39:\tlearn: 4529.7936300\ttest: 4212.7152590\tbest: 4212.7152590 (39)\ttotal: 17s\tremaining: 25.6s\n",
            "40:\tlearn: 4523.0080946\ttest: 4205.5272085\tbest: 4205.5272085 (40)\ttotal: 17.6s\tremaining: 25.3s\n",
            "41:\tlearn: 4516.2713693\ttest: 4198.6789181\tbest: 4198.6789181 (41)\ttotal: 18s\tremaining: 24.9s\n",
            "42:\tlearn: 4511.6345249\ttest: 4193.9634283\tbest: 4193.9634283 (42)\ttotal: 18.3s\tremaining: 24.3s\n",
            "43:\tlearn: 4496.8820237\ttest: 4179.4293643\tbest: 4179.4293643 (43)\ttotal: 18.7s\tremaining: 23.7s\n",
            "44:\tlearn: 4483.7767853\ttest: 4166.4350897\tbest: 4166.4350897 (44)\ttotal: 19s\tremaining: 23.2s\n",
            "45:\tlearn: 4476.1807952\ttest: 4158.1578880\tbest: 4158.1578880 (45)\ttotal: 19.3s\tremaining: 22.7s\n",
            "46:\tlearn: 4469.0751736\ttest: 4152.6609933\tbest: 4152.6609933 (46)\ttotal: 19.6s\tremaining: 22.1s\n",
            "47:\tlearn: 4462.1278850\ttest: 4146.9884946\tbest: 4146.9884946 (47)\ttotal: 19.9s\tremaining: 21.5s\n",
            "48:\tlearn: 4455.2941510\ttest: 4139.2239281\tbest: 4139.2239281 (48)\ttotal: 20.2s\tremaining: 21s\n",
            "49:\tlearn: 4450.2535052\ttest: 4136.2947884\tbest: 4136.2947884 (49)\ttotal: 20.5s\tremaining: 20.5s\n",
            "50:\tlearn: 4444.5921353\ttest: 4131.4022559\tbest: 4131.4022559 (50)\ttotal: 20.8s\tremaining: 20s\n",
            "51:\tlearn: 4439.6017549\ttest: 4126.7489798\tbest: 4126.7489798 (51)\ttotal: 21.1s\tremaining: 19.5s\n",
            "52:\tlearn: 4436.0558124\ttest: 4122.9310622\tbest: 4122.9310622 (52)\ttotal: 21.5s\tremaining: 19s\n",
            "53:\tlearn: 4432.9929482\ttest: 4121.2854432\tbest: 4121.2854432 (53)\ttotal: 21.8s\tremaining: 18.5s\n",
            "54:\tlearn: 4422.9440401\ttest: 4110.2208493\tbest: 4110.2208493 (54)\ttotal: 22.1s\tremaining: 18.1s\n",
            "55:\tlearn: 4415.5432319\ttest: 4102.5381157\tbest: 4102.5381157 (55)\ttotal: 22.4s\tremaining: 17.6s\n",
            "56:\tlearn: 4407.6603218\ttest: 4094.5251906\tbest: 4094.5251906 (56)\ttotal: 22.7s\tremaining: 17.1s\n",
            "57:\tlearn: 4404.9490618\ttest: 4091.8257119\tbest: 4091.8257119 (57)\ttotal: 23s\tremaining: 16.7s\n",
            "58:\tlearn: 4397.1812965\ttest: 4086.5006935\tbest: 4086.5006935 (58)\ttotal: 23.3s\tremaining: 16.2s\n",
            "59:\tlearn: 4391.6910904\ttest: 4080.9405569\tbest: 4080.9405569 (59)\ttotal: 23.6s\tremaining: 15.8s\n",
            "60:\tlearn: 4386.0891486\ttest: 4075.9439397\tbest: 4075.9439397 (60)\ttotal: 23.9s\tremaining: 15.3s\n",
            "61:\tlearn: 4382.8930180\ttest: 4073.7472537\tbest: 4073.7472537 (61)\ttotal: 24.3s\tremaining: 14.9s\n",
            "62:\tlearn: 4379.8453018\ttest: 4069.9246384\tbest: 4069.9246384 (62)\ttotal: 24.8s\tremaining: 14.6s\n",
            "63:\tlearn: 4356.8716414\ttest: 4066.6032168\tbest: 4066.6032168 (63)\ttotal: 25.4s\tremaining: 14.3s\n",
            "64:\tlearn: 4353.4636311\ttest: 4061.4081201\tbest: 4061.4081201 (64)\ttotal: 25.9s\tremaining: 13.9s\n",
            "65:\tlearn: 4345.9575506\ttest: 4050.9714548\tbest: 4050.9714548 (65)\ttotal: 26.4s\tremaining: 13.6s\n",
            "66:\tlearn: 4343.8536596\ttest: 4048.5872415\tbest: 4048.5872415 (66)\ttotal: 26.9s\tremaining: 13.3s\n",
            "67:\tlearn: 4341.3571085\ttest: 4046.2482407\tbest: 4046.2482407 (67)\ttotal: 27.5s\tremaining: 12.9s\n",
            "68:\tlearn: 4327.3283831\ttest: 4030.9600380\tbest: 4030.9600380 (68)\ttotal: 28.1s\tremaining: 12.6s\n",
            "69:\tlearn: 4322.9330726\ttest: 4027.5637627\tbest: 4027.5637627 (69)\ttotal: 28.6s\tremaining: 12.3s\n",
            "70:\tlearn: 4317.3880187\ttest: 4021.2627573\tbest: 4021.2627573 (70)\ttotal: 29.1s\tremaining: 11.9s\n",
            "71:\tlearn: 4308.3078913\ttest: 4012.9600880\tbest: 4012.9600880 (71)\ttotal: 29.4s\tremaining: 11.4s\n",
            "72:\tlearn: 4302.5893943\ttest: 4006.4856145\tbest: 4006.4856145 (72)\ttotal: 29.7s\tremaining: 11s\n",
            "73:\tlearn: 4295.5370081\ttest: 3998.7895954\tbest: 3998.7895954 (73)\ttotal: 30s\tremaining: 10.5s\n",
            "74:\tlearn: 4292.8945011\ttest: 3996.2558575\tbest: 3996.2558575 (74)\ttotal: 30.3s\tremaining: 10.1s\n",
            "75:\tlearn: 4289.0200683\ttest: 3992.7922407\tbest: 3992.7922407 (75)\ttotal: 30.6s\tremaining: 9.65s\n",
            "76:\tlearn: 4285.9923783\ttest: 3990.7161064\tbest: 3990.7161064 (76)\ttotal: 30.9s\tremaining: 9.22s\n",
            "77:\tlearn: 4281.4912293\ttest: 3985.5483696\tbest: 3985.5483696 (77)\ttotal: 31.2s\tremaining: 8.79s\n",
            "78:\tlearn: 4276.1761274\ttest: 3980.5842314\tbest: 3980.5842314 (78)\ttotal: 31.7s\tremaining: 8.42s\n",
            "79:\tlearn: 4274.0393474\ttest: 3977.9641272\tbest: 3977.9641272 (79)\ttotal: 32.3s\tremaining: 8.08s\n",
            "80:\tlearn: 4267.9402485\ttest: 3977.3191107\tbest: 3977.3191107 (80)\ttotal: 33s\tremaining: 7.73s\n",
            "81:\tlearn: 4263.1214924\ttest: 3971.7861288\tbest: 3971.7861288 (81)\ttotal: 33.6s\tremaining: 7.37s\n",
            "82:\tlearn: 4259.1474452\ttest: 3967.6815788\tbest: 3967.6815788 (82)\ttotal: 34.2s\tremaining: 7s\n",
            "83:\tlearn: 4255.1467399\ttest: 3964.7153198\tbest: 3964.7153198 (83)\ttotal: 34.8s\tremaining: 6.63s\n",
            "84:\tlearn: 4248.6191793\ttest: 3958.1911260\tbest: 3958.1911260 (84)\ttotal: 35.4s\tremaining: 6.25s\n",
            "85:\tlearn: 4242.5147557\ttest: 3952.8652900\tbest: 3952.8652900 (85)\ttotal: 36s\tremaining: 5.86s\n",
            "86:\tlearn: 4237.8072632\ttest: 3948.3452909\tbest: 3948.3452909 (86)\ttotal: 36.5s\tremaining: 5.46s\n",
            "87:\tlearn: 4234.7899188\ttest: 3946.4495824\tbest: 3946.4495824 (87)\ttotal: 37.1s\tremaining: 5.06s\n",
            "88:\tlearn: 4231.9651757\ttest: 3943.9334640\tbest: 3943.9334640 (88)\ttotal: 37.6s\tremaining: 4.65s\n",
            "89:\tlearn: 4228.5356608\ttest: 3940.9711861\tbest: 3940.9711861 (89)\ttotal: 38.3s\tremaining: 4.25s\n",
            "90:\tlearn: 4221.5997076\ttest: 3933.0108647\tbest: 3933.0108647 (90)\ttotal: 38.8s\tremaining: 3.83s\n",
            "91:\tlearn: 4218.5188981\ttest: 3930.6295154\tbest: 3930.6295154 (91)\ttotal: 39.6s\tremaining: 3.45s\n",
            "92:\tlearn: 4214.6415400\ttest: 3926.4679297\tbest: 3926.4679297 (92)\ttotal: 40.6s\tremaining: 3.06s\n",
            "93:\tlearn: 4208.0603157\ttest: 3920.3696716\tbest: 3920.3696716 (93)\ttotal: 41.5s\tremaining: 2.65s\n",
            "94:\tlearn: 4206.0050465\ttest: 3918.4871255\tbest: 3918.4871255 (94)\ttotal: 42.5s\tremaining: 2.24s\n",
            "95:\tlearn: 4200.7472141\ttest: 3912.5049828\tbest: 3912.5049828 (95)\ttotal: 43.6s\tremaining: 1.81s\n",
            "96:\tlearn: 4198.2410405\ttest: 3910.2034984\tbest: 3910.2034984 (96)\ttotal: 44.4s\tremaining: 1.37s\n",
            "97:\tlearn: 4195.8427195\ttest: 3909.1908308\tbest: 3909.1908308 (97)\ttotal: 45s\tremaining: 918ms\n",
            "98:\tlearn: 4192.5643863\ttest: 3905.4464839\tbest: 3905.4464839 (98)\ttotal: 45.5s\tremaining: 460ms\n",
            "99:\tlearn: 4189.7601603\ttest: 3903.3344807\tbest: 3903.3344807 (99)\ttotal: 46.1s\tremaining: 0us\n",
            "\n",
            "bestTest = 3903.334481\n",
            "bestIteration = 99\n",
            "\n"
          ]
        }
      ]
    },
    {
      "cell_type": "code",
      "source": [
        "del df_notna"
      ],
      "metadata": {
        "id": "fSloYMWffAZs"
      },
      "execution_count": null,
      "outputs": []
    },
    {
      "cell_type": "code",
      "execution_count": null,
      "metadata": {
        "id": "k-okY-A4Tp14",
        "colab": {
          "base_uri": "https://localhost:8080/"
        },
        "outputId": "55840e54-2568-4357-b6c4-5bfd95272596"
      },
      "outputs": [
        {
          "output_type": "stream",
          "name": "stdout",
          "text": [
            "Naive: 27773.15445523579\n",
            "RMSE: 3903.3344807358667\n"
          ]
        }
      ],
      "source": [
        "from sklearn.metrics import mean_squared_error\n",
        "y_pred = cat.predict(X_test)\n",
        "print('Naive:', mean_squared_error(y_test, y_test - y_test.mean(), squared=False))\n",
        "print('RMSE:', mean_squared_error(y_test, y_pred, squared=False))"
      ]
    },
    {
      "cell_type": "code",
      "execution_count": null,
      "metadata": {
        "id": "meExf6M20Fi0"
      },
      "outputs": [],
      "source": [
        "df_test = pd.read_csv('test.csv', usecols=['vin','engine_displacement','horsepower','make_name','mileage','transmission_display','trimId','year',])\n",
        "df_submission = pd.read_csv('submission.csv')\n",
        "df_test.info()"
      ]
    },
    {
      "cell_type": "code",
      "execution_count": null,
      "metadata": {
        "id": "NjLUz67BTvLG"
      },
      "outputs": [],
      "source": [
        "df_test['engine_displacement'] = df_test.engine_displacement.fillna(df_test.engine_displacement.mean())\n",
        "df_test['horsepower'] = df_test.horsepower.fillna(df_test.horsepower.mean())\n",
        "df_test['transmission_display'] = df_test.transmission_display.fillna('Automatic')\n",
        "df_test['trimId'] = df_test.trimId.fillna('t87739')\n",
        "df_test['mileage'] = df_test.mileage.fillna(df_test.mileage.mean())"
      ]
    },
    {
      "cell_type": "code",
      "execution_count": null,
      "metadata": {
        "id": "NtE7aQriVBph",
        "colab": {
          "base_uri": "https://localhost:8080/"
        },
        "outputId": "71699786-0da3-440a-ec65-76fe44c2f014"
      },
      "outputs": [
        {
          "output_type": "stream",
          "name": "stdout",
          "text": [
            "updating: submission.csv (deflated 56%)\n"
          ]
        }
      ],
      "source": [
        "df_test['price'] = cat.predict(df_test[features])\n",
        "df_test[['vin', 'price']].to_csv('submission.csv', index=False)\n",
        "!zip submission.zip submission.csv"
      ]
    },
    {
      "cell_type": "code",
      "execution_count": null,
      "metadata": {
        "id": "WfQekX0ViU6q"
      },
      "outputs": [],
      "source": [
        "#explainer = shap.TreeExplainer(cat)\n",
        "#shap_values = explainer.shap_values(X)\n",
        "#shap.summary_plot(shap_values, X)"
      ]
    }
  ],
  "metadata": {
    "colab": {
      "provenance": []
    },
    "kernelspec": {
      "display_name": "Python 3",
      "name": "python3"
    },
    "language_info": {
      "name": "python"
    }
  },
  "nbformat": 4,
  "nbformat_minor": 0
}